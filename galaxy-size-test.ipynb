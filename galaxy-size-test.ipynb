{
 "cells": [
  {
   "cell_type": "code",
   "execution_count": null,
   "metadata": {},
   "outputs": [],
   "source": [
    "from getpass import getpass\n",
    "from dl import authClient as ac, queryClient as qc\n",
    "import pandas as pd\n",
    "import seaborn as sns\n",
    "import numpy as np\n",
    "import scipy as sp\n",
    "import matplotlib.pyplot as plt\n",
    "\n",
    "pd.set_option('display.max_columns', None)\n",
    "sns.set_theme(style=\"whitegrid\")"
   ]
  },
  {
   "cell_type": "code",
   "execution_count": 2,
   "metadata": {},
   "outputs": [],
   "source": [
    "# defn columns to get by group\n",
    "ids = \"m.id1 as ls_id, m.id2 as sdss_specobjid, pp.objid as sdss_bestobjid, ls.type\" \n",
    "ras_decs = \"ls.ra as ls_ra, so.ra as so_ra, pp.ra as pp_ra, ls.dec as la_dec, so.dec as so_dec, pp.dec as pp_dec\"\n",
    "ls_mags = \"ls.dered_mag_g as ls_dered_g, ls.dered_mag_r as ls_dered_r, ls.dered_mag_w1 as ls_dered_w1, ls.dered_mag_w2 as ls_dered_w2, ls.dered_mag_w3 as ls_dered_w3, ls.dered_mag_w4 as ls_dered_w4, ls.dered_mag_z as ls_dered_z\"\n",
    "sdss_mags = \"pp.dered_g as sdss_dered_g, pp.dered_i as sdss_dered_i, pp.dered_r as sdss_dered_r, pp.dered_u as sdss_dered_u, pp.dered_z as sdss_dered_z\"\n",
    "# Change this name? Its technically not r-band, though it is said to be same in every band so...?? \n",
    "radii = \"ls.shape_r as ls_radius_r, pp.petror50_r as sdss_radius_r_petror50, pp.devrad_r as sdss_radius_r_devaucouleurs, pp.exprad_r as sdss_radius_r_exprad\" \n",
    "shapes = \"ls.shape_e1 as ls_ellipticity_component_1, ls.shape_e2 as ls_ellipticity_component_2\"\n",
    "sersic = \"ls.sersic\"\n",
    "chi_squareds = \"ls.dchisq_3 as ls_dchisq_dev, ls.dchisq_4 as ls_dchisq_exp, ls.rchisq_r as ls_rchisq_r\"\n",
    "\n",
    "\n",
    "columns = ids + \", \" + ras_decs + \", \" + ls_mags + \", \"  + sdss_mags + \", \"  + shapes + \", \"  + sersic + \", \"  + radii + \", \" + chi_squareds\n",
    "\n",
    "query = \"\\\n",
    "   SELECT \" + columns + \" \\\n",
    "     FROM ls_dr9.x1p5__tractor__sdss_dr17__specobj m \\\n",
    "LEFT JOIN ls_dr9.tractor ls       ON ls.ls_id = m.id1 \\\n",
    "LEFT JOIN sdss_dr17.specobj so    ON so.specobjid = m.id2 \\\n",
    "LEFT JOIN sdss_dr17.photoplate pp ON pp.objid = so.bestobjid \\\n",
    "    WHERE ls.shape_r > 0 \\\n",
    "      AND pp.objid IS NOT NULL\"\n",
    "result = qc.query(sql=query,fmt='pandas')\n",
    "print(\"Types: {}\".format(result.type.unique()))"
   ]
  },
  {
   "cell_type": "code",
   "execution_count": null,
   "metadata": {},
   "outputs": [],
   "source": [
    "result.to_csv('ls_sdss_data.csv')"
   ]
  },
  {
   "attachments": {},
   "cell_type": "markdown",
   "metadata": {},
   "source": [
    "Or just keep the offline data"
   ]
  },
  {
   "cell_type": "code",
   "execution_count": null,
   "metadata": {},
   "outputs": [],
   "source": [
    "result = pd.read_csv('ls_sdss_data.csv')"
   ]
  },
  {
   "cell_type": "code",
   "execution_count": null,
   "metadata": {},
   "outputs": [],
   "source": [
    "df_sdss_ls = result[[\"ls_id\", \"sdss_specobjid\", \"type\", \"ls_dered_g\", \"sdss_dered_g\", \"ls_dered_r\", \"sdss_dered_r\", \"ls_dered_z\", \"sdss_dered_z\", \"ls_radius_r\", \"sdss_radius_r_devaucouleurs\", \"sdss_radius_r_exprad\", \"sdss_radius_r_petror50\", \"ls_ellipticity_component_1\", \"ls_ellipticity_component_2\", \"ls_dchisq_exp\", \"ls_rchisq_r\", \"sersic\"]].copy()\n",
    "df_sdss_ls"
   ]
  },
  {
   "attachments": {},
   "cell_type": "markdown",
   "metadata": {},
   "source": [
    "## Read Meert data (for SDSS)"
   ]
  },
  {
   "cell_type": "code",
   "execution_count": null,
   "metadata": {},
   "outputs": [],
   "source": [
    "from astropy.io import fits"
   ]
  },
  {
   "cell_type": "code",
   "execution_count": null,
   "metadata": {},
   "outputs": [],
   "source": [
    "with fits.open('/home/abs/Research/Meert_Catalog/meert_et_al_data_tables_v2/UPenn_PhotDec_Models_rband.fits') as data:\n",
    "    meert_data_models = pd.DataFrame(np.array(data[5].data).byteswap().newbyteorder()) # .fits are all bigendian, pandas / scipy littleendian\n",
    "\n",
    "with fits.open('/home/abs/Research/Meert_Catalog/meert_et_al_data_tables_v2/UPenn_PhotDec_CAST.fits') as data:\n",
    "    meert_cast = pd.DataFrame(np.array(data[1].data).byteswap().newbyteorder())"
   ]
  },
  {
   "cell_type": "code",
   "execution_count": null,
   "metadata": {},
   "outputs": [],
   "source": [
    "meert_data = meert_data_models.join(meert_cast, how=\"left\")\n",
    "meert_data"
   ]
  },
  {
   "cell_type": "code",
   "execution_count": null,
   "metadata": {},
   "outputs": [],
   "source": [
    "df = df_sdss_ls.set_index('sdss_specobjid').join(meert_data.set_index('specobjid'), how=\"outer\")\n",
    "df"
   ]
  },
  {
   "cell_type": "code",
   "execution_count": null,
   "metadata": {},
   "outputs": [],
   "source": [
    "specobjs_ls_sdss = df_sdss_ls['sdss_specobjid'].unique()\n",
    "specobjs_meert = meert_data['specobjid'].unique()\n",
    "# shared_specobjs = set(specobjs_ls_sdss).intersection(specobjs_meert)\n",
    "# display(shared_specobjs)\n",
    "display(specobjs_ls_sdss)\n",
    "display(specobjs_meert)"
   ]
  },
  {
   "attachments": {},
   "cell_type": "markdown",
   "metadata": {},
   "source": [
    "## Generate new columns\n",
    "- Ellipticity (b/a) https://www.legacysurvey.org/dr9/catalogs/#ellipticities\n",
    "- Circularized radius of LS semimajor axes\n",
    "- Differences in radius measurements (+ percent diff)\n",
    "- Differences in r-band magnitudes (+ percent diff)"
   ]
  },
  {
   "cell_type": "code",
   "execution_count": null,
   "metadata": {},
   "outputs": [],
   "source": [
    "# Remove plain duplicates \n",
    "print(\"pre-cut: {}\".format(df.shape[0]))\n",
    "df[\"is_ls_duplicate\"] = df.duplicated(subset=['ls_id'], keep=False)\n",
    "df[\"is_sdss_duplicate\"] = df.duplicated(subset=['sdss_specobjid'], keep=False)\n",
    "print(\"post-cut: {}\".format(df.shape[0]))"
   ]
  },
  {
   "cell_type": "code",
   "execution_count": null,
   "metadata": {},
   "outputs": [],
   "source": [
    "# Add more radial comparison parameters\n",
    "df[\"ls_e\"] = np.hypot(df[\"ls_ellipticity_component_1\"], df[\"ls_ellipticity_component_2\"])\n",
    "df[\"ls_b_over_a\"] = (1 - df[\"ls_e\"]) / (1 + df[\"ls_e\"])\n",
    "\n",
    "# circularization of ls \"radius_r\"\n",
    "df[\"ls_radius_r_circularized\"] = df[\"ls_radius_r\"]*np.sqrt(df[\"ls_b_over_a\"]) # equivalent area radius for given semimajor axis and b/a (r = sqrt(a*b))\n",
    "\n",
    "# magnitude differences\n",
    "df[\"dered_mag_diff\"] = df[\"ls_dered_r\"] - df[\"sdss_dered_r\"]\n",
    "df[\"dered_percent_diff\"] = df[\"dered_mag_diff\"] / df[\"ls_dered_r\"] # again % diff from ls data\n",
    "df[\"abs_dered_mag_diff\"] = np.abs(df[\"dered_mag_diff\"])"
   ]
  },
  {
   "attachments": {},
   "cell_type": "markdown",
   "metadata": {},
   "source": [
    "## Scrub Data\n",
    "- Filter out duplicate-match rows (choose closest r-band magnitude)\n",
    "- Remove data without petrorsian radius measurements (in SDSS this is given by \"-9999.0\")\n",
    "- Remove data without r-band magnitudes in either survey (in LS this is \"inf\")"
   ]
  },
  {
   "attachments": {},
   "cell_type": "markdown",
   "metadata": {},
   "source": [
    "#### Remove Duplicates"
   ]
  },
  {
   "cell_type": "code",
   "execution_count": null,
   "metadata": {},
   "outputs": [],
   "source": [
    "df.sort_values(['ls_id', 'abs_dered_mag_diff'], ascending=[True, False])\n",
    "df = df.drop_duplicates(subset=['sdss_specobjid'], keep='first')\n",
    "print(\"Length: {}\".format(df.shape[0]))"
   ]
  },
  {
   "cell_type": "code",
   "execution_count": null,
   "metadata": {},
   "outputs": [],
   "source": [
    "# just checking that we dropped the correct ones\n",
    "df[df[\"ls_id\"] == 9907740037940626]"
   ]
  },
  {
   "cell_type": "code",
   "execution_count": null,
   "metadata": {},
   "outputs": [],
   "source": [
    "# make sure no duplicates left (should show empty DF)\n",
    "df_check = df.copy()\n",
    "df_check[\"is_sdss_still_duplicated\"] = df_check.duplicated(subset=['sdss_specobjid'], keep=False)\n",
    "df_check[df_check[\"is_sdss_still_duplicated\"] == True]"
   ]
  },
  {
   "cell_type": "code",
   "execution_count": null,
   "metadata": {},
   "outputs": [],
   "source": [
    "# no duplicate LS ids :)\n",
    "df_view_ls_dups = df[df[\"is_ls_duplicate\"] == True]\n",
    "df_view_ls_dups"
   ]
  },
  {
   "attachments": {},
   "cell_type": "markdown",
   "metadata": {},
   "source": [
    "#### Remove no petror_r"
   ]
  },
  {
   "cell_type": "code",
   "execution_count": null,
   "metadata": {},
   "outputs": [],
   "source": [
    "# has petrosian half-light radius\n",
    "df = df[df[\"sdss_radius_r_petror50\"] > -9000]\n",
    "print(\"Length: {}\".format(df.shape[0]))"
   ]
  },
  {
   "attachments": {},
   "cell_type": "markdown",
   "metadata": {},
   "source": [
    "#### Remove no r-band magnitude"
   ]
  },
  {
   "cell_type": "code",
   "execution_count": null,
   "metadata": {},
   "outputs": [],
   "source": [
    "df = df[~df[\"ls_dered_r\"].isin([np.inf])]\n",
    "print(\"Length: {}\".format(df.shape[0]))"
   ]
  },
  {
   "attachments": {},
   "cell_type": "markdown",
   "metadata": {},
   "source": [
    "## Science Filters\n",
    "- Magnitudes brighter than 21\n",
    "- Type (everything except PSF, DUP)"
   ]
  },
  {
   "cell_type": "code",
   "execution_count": null,
   "metadata": {},
   "outputs": [],
   "source": [
    "df = df[df[\"ls_dered_r\"] <= 21]\n",
    "# PSF and DUP already not in joined dataset\n",
    "# df = df[~df[\"type\"].isin([\"PSF\", \"DUP\"])]\n",
    "print(\"Length: {}\".format(df.shape[0]))"
   ]
  },
  {
   "cell_type": "code",
   "execution_count": null,
   "metadata": {},
   "outputs": [],
   "source": [
    "data_no_rex = df[df[\"type\"] != \"REX\"].copy()"
   ]
  },
  {
   "cell_type": "code",
   "execution_count": null,
   "metadata": {},
   "outputs": [],
   "source": []
  },
  {
   "attachments": {},
   "cell_type": "markdown",
   "metadata": {},
   "source": [
    "## Compare subsets"
   ]
  },
  {
   "cell_type": "code",
   "execution_count": null,
   "metadata": {},
   "outputs": [],
   "source": [
    "# Sample type in [\"DEV\", \"EXP\", \"REX\", \"any\"]\n",
    "# sdss_radius_type in \"petror\" or \"sample\" (e.g. \"type\" for sample DEV would choose sdss_radius_r_devaucouleurs\"\n",
    "# choose circ=True to use circularized radius\n",
    "def compare_radii(sample_type=\"DEV\", sdss_radius_type=\"petror\", circ=False):\n",
    "    \n",
    "    # data set\n",
    "    if sample_type == \"any\":\n",
    "        df_type = df.copy() \n",
    "    else: df_type = df[df[\"type\"] == sample_type].copy()\n",
    "    \n",
    "    # sdss radius to use  (replace prints with try-catches later)\n",
    "    if sdss_radius_type == \"petror\":\n",
    "        sdss_radius = \"sdss_radius_r_petror50\"\n",
    "    elif sdss_radius_type == \"sample\":\n",
    "        if sample_type == \"DEV\":\n",
    "            sdss_radius = \"sdss_radius_r_devaucouleurs\"\n",
    "        elif sample_type == \"EXP\":\n",
    "            sdss_radius = \"sdss_radius_r_exprad\"\n",
    "        else:\n",
    "            sdss_radius = \"sdss_radius_r_petror50\"\n",
    "            print(\"type {} has no special radius - defaults petror50 radius\".format(sample_type))\n",
    "    else: \n",
    "        print(\"Invalid radius type. Sample types in ['DEV', 'EXP', 'REX', 'SER', 'any'] sdss_radius_type in ['petror', 'sample']\")\n",
    "    \n",
    "    # ls radius to use\n",
    "    ls_radius = \"ls_radius_r_circularized\" if circ else \"ls_radius_r\"\n",
    "        \n",
    "    # Do it to it\n",
    "    df_type[\"radius_diff\"] = df_type[sdss_radius] - df_type[ls_radius]\n",
    "    df_type[\"radius_diff_percent\"] = 100 * df_type[\"radius_diff\"] / df_type[ls_radius]\n",
    "    # df_type[\"sdss_radius_type\"] = sdss_radius.split(\"sdss_radius_r_\")[1]\n",
    "    df_type[\"sdss_radius_type\"] = sdss_radius_type\n",
    "    df_type[\"circularized\"] = \"Yes\" if circ else \"No\"\n",
    "    df_type = df_type[[\"type\", \"sdss_radius_type\", \"circularized\", \"ls_b_over_a\", \"radius_diff\", \"radius_diff_percent\", \"sersic\"]].copy()\n",
    "    \n",
    "    return df_type"
   ]
  },
  {
   "cell_type": "code",
   "execution_count": null,
   "metadata": {},
   "outputs": [],
   "source": [
    "plot_data = pd.DataFrame()\n",
    "\n",
    "for type in ['DEV', 'EXP', 'SER']:\n",
    "    for sdss_radius_type in ['petror', 'sample']:\n",
    "        for circ in [True, False]:\n",
    "            df_type = compare_radii(type, sdss_radius_type, circ)\n",
    "            plot_data = plot_data.append(df_type)"
   ]
  },
  {
   "cell_type": "code",
   "execution_count": null,
   "metadata": {},
   "outputs": [],
   "source": [
    "plot_data[\"column\"] = \"$r_{SDSS}:$\" + plot_data[\"sdss_radius_type\"] + \", \" + \"$r_{ls}$ circlrzd: \" + plot_data[\"circularized\"]"
   ]
  },
  {
   "cell_type": "code",
   "execution_count": null,
   "metadata": {},
   "outputs": [],
   "source": [
    "def hist2d(x, y, **kwargs):\n",
    "    kwargs.pop(\"color\", None)\n",
    "    plt.hist2d(x, y, bins=(100,10000), **kwargs)\n",
    "    plt.ylim(-100,100)\n",
    "    plt.xlim(0,1)\n",
    "\n",
    "g = sns.FacetGrid(plot_data, row=\"type\", col=\"column\", margin_titles=True)\n",
    "g.map(hist2d, \"ls_b_over_a\", \"radius_diff_percent\", cmap='viridis')\n",
    "g.set_titles(col_template=\"{col_name}\", row_template=\"{row_name}\")"
   ]
  },
  {
   "cell_type": "code",
   "execution_count": null,
   "metadata": {},
   "outputs": [],
   "source": []
  },
  {
   "attachments": {},
   "cell_type": "markdown",
   "metadata": {},
   "source": [
    "## Sersic sub-plots"
   ]
  },
  {
   "cell_type": "code",
   "execution_count": null,
   "metadata": {},
   "outputs": [],
   "source": [
    "sersic_vals = np.arange(0, plot_data['sersic'].max()+0.5, 1)\n",
    "bin_labels = []\n",
    "for i in range (0, len(sersic_vals)-1):\n",
    "    bin_labels.append(str(sersic_vals[i]) + \"-\" + str(sersic_vals[i+1]))"
   ]
  },
  {
   "cell_type": "code",
   "execution_count": null,
   "metadata": {},
   "outputs": [],
   "source": [
    "sersic_data = compare_radii(sample_type=\"SER\", sdss_radius_type=\"petror\", circ=False)\n",
    "sersic_data_circ = compare_radii(sample_type=\"SER\", sdss_radius_type=\"petror\", circ=True)\n",
    "\n",
    "sersic_data"
   ]
  },
  {
   "cell_type": "code",
   "execution_count": null,
   "metadata": {},
   "outputs": [],
   "source": [
    "sersic_data['sersic_group'] = (np.select([sersic_data['sersic'].between(i, j, inclusive='right') \n",
    "                           for i,j in zip(sersic_vals, sersic_vals[1:])], \n",
    "                          bin_labels))\n",
    "sersic_data_circ['sersic_group'] = (np.select([sersic_data_circ['sersic'].between(i, j, inclusive='right') \n",
    "                           for i,j in zip(sersic_vals, sersic_vals[1:])], \n",
    "                          bin_labels))\n",
    "sersic_data = sersic_data.sort_values('sersic_group')\n",
    "sersic_data_circ = sersic_data_circ.sort_values('sersic_group')"
   ]
  },
  {
   "cell_type": "code",
   "execution_count": null,
   "metadata": {},
   "outputs": [],
   "source": [
    "sersic_data_all = sersic_data_circ.append(sersic_data)\n",
    "\n",
    "\n",
    "sersic_vals = np.arange(0, plot_data['sersic'].max()+0.5, 2)\n",
    "bin_labels = []\n",
    "for i in range (0, len(sersic_vals)-1):\n",
    "    bin_labels.append(str(sersic_vals[i]) + \"-\" + str(sersic_vals[i+1]))\n",
    "\n",
    "sersic_data_all['sersic_group'] = (np.select([sersic_data_all['sersic'].between(i, j, inclusive='right') \n",
    "                           for i,j in zip(sersic_vals, sersic_vals[1:])], \n",
    "                          bin_labels))\n",
    "\n",
    "sersic_data_all = sersic_data_all.sort_values('sersic_group')"
   ]
  },
  {
   "cell_type": "code",
   "execution_count": null,
   "metadata": {},
   "outputs": [],
   "source": [
    "# https://www.sdss4.org/dr12/algorithms/magnitudes/#mag_petro\n",
    "\n",
    "def hist2d(x, y, **kwargs):\n",
    "    kwargs.pop(\"color\", None)\n",
    "    plt.hist2d(x, y, bins=(100,10000), **kwargs)\n",
    "    plt.ylim(-100,100)\n",
    "    plt.xlim(0,1)\n",
    "\n",
    "g = sns.FacetGrid(sersic_data_all, row=\"circularized\", col=\"sersic_group\", margin_titles=True, gridspec_kws={\"wspace\":0, \"hspace\":0})\n",
    "g.map(hist2d, \"ls_b_over_a\", \"radius_diff_percent\", cmap='viridis')\n",
    "g.set_titles(col_template=\"Sersic index: {col_name}\", row_template=\"LS r circularized? {row_name}\")\n",
    "g.set_xlabels(\"$\\longleftarrow$ line (b/a) circle $\\longrightarrow$\")\n",
    "g.set_ylabels('')\n",
    "g.fig.supylabel(\"% ($r_{SDSS petro}$  - $r_{LS}$)\")"
   ]
  },
  {
   "cell_type": "code",
   "execution_count": null,
   "metadata": {},
   "outputs": [],
   "source": [
    "def hist2d(x, y, **kwargs):\n",
    "    kwargs.pop(\"color\", None)\n",
    "    plt.hist2d(x, y, bins=(100,10000), **kwargs)\n",
    "    plt.ylim(-100,100)\n",
    "    plt.xlim(0,1)\n",
    "\n",
    "g = sns.FacetGrid(sersic_data, col=\"sersic_group\", margin_titles=True, col_wrap=3)\n",
    "g.map(hist2d, \"ls_b_over_a\", \"radius_diff_percent\", cmap='viridis')\n",
    "g.set_titles(col_template=\"{col_name}\")\n",
    "g.set_xlabels(\"\")\n",
    "g.set_ylabels('')\n",
    "g.fig.supylabel(\"% ($r_{SDSS petro}$  - $r_{LS}$)\")\n",
    "g.fig.supxlabel(\"$\\longleftarrow$ line             (b/a)              circle $\\longrightarrow$\")"
   ]
  },
  {
   "cell_type": "code",
   "execution_count": null,
   "metadata": {},
   "outputs": [],
   "source": [
    "def hist2d(x, y, **kwargs):\n",
    "    kwargs.pop(\"color\", None)\n",
    "    plt.hist2d(x, y, bins=(100,10000), **kwargs)\n",
    "    plt.ylim(-100,100)\n",
    "    plt.xlim(0,1)\n",
    "\n",
    "g = sns.FacetGrid(sersic_data_circ, col=\"sersic_group\", margin_titles=True, col_wrap=3)\n",
    "g.map(hist2d, \"ls_b_over_a\", \"radius_diff_percent\", cmap='viridis')\n",
    "g.set_titles(col_template=\"{col_name}\")\n",
    "g.set_xlabels(\"\")\n",
    "g.set_ylabels('')\n",
    "g.fig.supylabel(\"% ($r_{SDSS petro}$  - $r_{LS}$ CIRCULARIZED)\")\n",
    "g.fig.supxlabel(\"$\\longleftarrow$ line             (b/a)              circle $\\longrightarrow$\")"
   ]
  }
 ],
 "metadata": {
  "kernelspec": {
   "display_name": "satellite-ellipticities",
   "language": "python",
   "name": "python3"
  },
  "language_info": {
   "codemirror_mode": {
    "name": "ipython",
    "version": 3
   },
   "file_extension": ".py",
   "mimetype": "text/x-python",
   "name": "python",
   "nbconvert_exporter": "python",
   "pygments_lexer": "ipython3",
   "version": "3.9.16"
  },
  "orig_nbformat": 4,
  "vscode": {
   "interpreter": {
    "hash": "593019684f7021e8fe6a4c3db3cb5af2bec7f7dac2e37296bac94ddb3e8f915d"
   }
  }
 },
 "nbformat": 4,
 "nbformat_minor": 2
}
